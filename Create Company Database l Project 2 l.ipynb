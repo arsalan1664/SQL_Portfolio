{
    "metadata": {
        "kernelspec": {
            "name": "SQL",
            "display_name": "SQL",
            "language": "sql"
        },
        "language_info": {
            "name": "sql",
            "version": ""
        }
    },
    "nbformat_minor": 2,
    "nbformat": 4,
    "cells": [
        {
            "cell_type": "markdown",
            "source": [
                "# Project 2: Company Database\n",
                "\n",
                "## Creating Database 'Db\\_1' Having 1 Main Table and 2 Ref Tables\n",
                "\n",
                "Main table Name: Staff ,\n",
                "\n",
                "- <span style=\"color: rgb(255, 255, 255); font-family: Consolas, &quot;Courier New&quot;, monospace; font-size: 12px; white-space: pre;\">STAFF_ID</span>\n",
                "- <span style=\"color: rgb(255, 255, 255); font-family: Consolas, &quot;Courier New&quot;, monospace; font-size: 12px; white-space: pre;\">STAFF_TYPE<br></span>\n",
                "- <span style=\"color: rgb(255, 255, 255); font-family: Consolas, &quot;Courier New&quot;, monospace; font-size: 12px; white-space: pre;\">SCHOOL_ID<br></span>\n",
                "- <span style=\"color: rgb(255, 255, 255); font-family: Consolas, &quot;Courier New&quot;, monospace; font-size: 12px; white-space: pre;\">FIRST_NAME<br></span>\n",
                "- <span style=\"color: rgb(255, 255, 255); font-family: Consolas, &quot;Courier New&quot;, monospace; font-size: 12px; white-space: pre;\">LAST_NAME<br></span>\n",
                "- <span style=\"color: rgb(255, 255, 255); font-family: Consolas, &quot;Courier New&quot;, monospace; font-size: 12px; white-space: pre;\">AGE<br></span>\n",
                "- <span style=\"color: rgb(255, 255, 255); font-family: Consolas, &quot;Courier New&quot;, monospace; font-size: 12px; white-space: pre;\">DOB<br></span>\n",
                "- <span style=\"color: rgb(255, 255, 255); font-family: Consolas, &quot;Courier New&quot;, monospace; font-size: 12px; white-space: pre;\">GENDER<br></span>\n",
                "- <span style=\"color: rgb(255, 255, 255); font-family: Consolas, &quot;Courier New&quot;, monospace; font-size: 12px; white-space: pre;\">JOIN_DATE<br></span>\n",
                "- <span style=\"color: rgb(255, 255, 255); font-family: Consolas, &quot;Courier New&quot;, monospace; font-size: 12px; white-space: pre;\">ADDRESS_ID</span>\n",
                "\n",
                "Ref table Name: School, ( Connected by school\\_id )\n",
                "\n",
                "- <span style=\"color: rgb(255, 255, 255); font-family: Consolas, &quot;Courier New&quot;, monospace; font-size: 12px; white-space: pre;\">SCHOOL_ID</span>\n",
                "- <span style=\"color: rgb(255, 255, 255); font-family: Consolas, &quot;Courier New&quot;, monospace; font-size: 12px; white-space: pre;\">SCHOOL_NAME<br></span>\n",
                "- <span style=\"color: rgb(255, 255, 255); font-family: Consolas, &quot;Courier New&quot;, monospace; font-size: 12px; white-space: pre;\">ED_BOARD<br></span>\n",
                "- <span style=\"color: rgb(255, 255, 255); font-family: Consolas, &quot;Courier New&quot;, monospace; font-size: 12px; white-space: pre;\">ADREES_SCH</span>\n",
                "\n",
                "Ref table Name: Address, ( Connected by Address\\_id )\n",
                "\n",
                "- <span style=\"color: rgb(255, 255, 255); font-family: Consolas, &quot;Courier New&quot;, monospace; font-size: 12px; white-space: pre;\">ADDRESS_ID</span>\n",
                "- <span style=\"color: rgb(255, 255, 255); font-family: Consolas, &quot;Courier New&quot;, monospace; font-size: 12px; white-space: pre;\">STREET<br></span>\n",
                "- <span style=\"color: rgb(255, 255, 255); font-family: Consolas, &quot;Courier New&quot;, monospace; font-size: 12px; white-space: pre;\">CITY<br></span>\n",
                "- <span style=\"color: rgb(255, 255, 255); font-family: Consolas, &quot;Courier New&quot;, monospace; font-size: 12px; white-space: pre;\">STATE<br></span>\n",
                "- <span style=\"color: rgb(255, 255, 255); font-family: Consolas, &quot;Courier New&quot;, monospace; font-size: 12px; white-space: pre;\">COUNTRY</span>"
            ],
            "metadata": {
                "language": "sql",
                "azdata_cell_guid": "3578305b-b970-4cab-84fe-e252476d3f5e"
            },
            "attachments": {}
        },
        {
            "cell_type": "code",
            "source": [
                "--CREATE DATABASE dB--\r\n",
                "\r\n",
                "CREATE Database Db_1"
            ],
            "metadata": {
                "language": "sql",
                "azdata_cell_guid": "580ef7fb-32f4-4eb9-b7e6-1114efd5e313"
            },
            "outputs": [
                {
                    "output_type": "display_data",
                    "data": {
                        "text/html": "Commands completed successfully."
                    },
                    "metadata": {}
                },
                {
                    "output_type": "display_data",
                    "data": {
                        "text/html": "Total execution time: 00:00:06.935"
                    },
                    "metadata": {}
                }
            ],
            "execution_count": 37
        },
        {
            "cell_type": "code",
            "source": [
                "--CREATE TABLE REF TABLE SCHOOL--\r\n",
                "\r\n",
                "USE Db_1\r\n",
                "\r\n",
                " CREATE TABLE SCHOOL\r\n",
                " (\r\n",
                "    SCHOOL_ID     VARCHAR(20) PRIMARY KEY\r\n",
                "  , SCHOOL_NAME   VARCHAR(100)\r\n",
                "  , ED_BOARD      VARCHAR(100)\r\n",
                "  , ADREES_SCH     VARCHAR(100)\r\n",
                "\r\n",
                " );\r\n",
                "\r\n",
                "\r\n",
                "--CREATE TABLE REF TABLE ADRESS--\r\n",
                "\r\n",
                "\r\n",
                " CREATE TABLE ADDRESS\r\n",
                "\r\n",
                " (\r\n",
                "    ADDRESS_ID     VARCHAR(100) PRIMARY KEY\r\n",
                "  , STREET         VARCHAR(100)\r\n",
                "  , CITY           VARCHAR(100)\r\n",
                "  , STATE          VARCHAR(100)\r\n",
                "  , COUNTRY        VARCHAR(100)\r\n",
                "\r\n",
                "\r\n",
                " );\r\n",
                "\r\n",
                " --CREATE TABLE MAI  TABLE STAFF--\r\n",
                "\r\n",
                "\r\n",
                "CREATE TABLE STAFF\r\n",
                "(  \r\n",
                "    STAFF_ID         VARCHAR(20)    NOT NULL UNIQUE\r\n",
                ",   STAFF_TYPE       VARCHAR(20)\r\n",
                ",   SCHOOL_ID        VARCHAR(20)\r\n",
                ",   FIRST_NAME       VARCHAR(100)   NOT NULL\r\n",
                ",   LAST_NAME        VARCHAR(100)   NOT NULL\r\n",
                ",   AGE              INT \r\n",
                ",   DOB              DATE \r\n",
                ",   GENDER           VARCHAR(10)    CHECK (GENDER IN ('M','F'))\r\n",
                ",   JOIN_DATE        DATE\r\n",
                ",   ADDRESS_ID       VARCHAR(100)\r\n",
                "\r\n",
                ",   CONSTRAINT PK_STF         PRIMARY KEY(STAFF_ID)\r\n",
                ",   CONSTRAINT FK_STF_SCHOOL  FOREIGN KEY(SCHOOL_ID)   REFERENCES SCHOOL(SCHOOL_ID)\r\n",
                ",   CONSTRAINT FK_STF_ADDRESS FOREIGN KEY(ADDRESS_ID)  REFERENCES ADDRESS(ADDRESS_ID)\r\n",
                "\r\n",
                " );\r\n",
                "\r\n",
                "\r\n",
                " SELECT  *  FROM  ADDRESS;\r\n",
                " SELECT  *  FROM  SCHOOL;\r\n",
                " SELECT  *  FROM  STAFF;\r\n",
                "\r\n",
                "\r\n",
                ""
            ],
            "metadata": {
                "azdata_cell_guid": "a60c17c7-02ce-481e-99da-b23c0a611f7a",
                "language": "sql"
            },
            "outputs": [
                {
                    "output_type": "display_data",
                    "data": {
                        "text/html": "(0 rows affected)"
                    },
                    "metadata": {}
                },
                {
                    "output_type": "display_data",
                    "data": {
                        "text/html": "(0 rows affected)"
                    },
                    "metadata": {}
                },
                {
                    "output_type": "display_data",
                    "data": {
                        "text/html": "(0 rows affected)"
                    },
                    "metadata": {}
                },
                {
                    "output_type": "display_data",
                    "data": {
                        "text/html": "Total execution time: 00:00:00.394"
                    },
                    "metadata": {}
                },
                {
                    "output_type": "execute_result",
                    "metadata": {},
                    "execution_count": 38,
                    "data": {
                        "application/vnd.dataresource+json": {
                            "schema": {
                                "fields": [
                                    {
                                        "name": "ADDRESS_ID"
                                    },
                                    {
                                        "name": "STREET"
                                    },
                                    {
                                        "name": "CITY"
                                    },
                                    {
                                        "name": "STATE"
                                    },
                                    {
                                        "name": "COUNTRY"
                                    }
                                ]
                            },
                            "data": []
                        },
                        "text/html": [
                            "<table>",
                            "<tr><th>ADDRESS_ID</th><th>STREET</th><th>CITY</th><th>STATE</th><th>COUNTRY</th></tr>",
                            "</table>"
                        ]
                    }
                },
                {
                    "output_type": "execute_result",
                    "metadata": {},
                    "execution_count": 38,
                    "data": {
                        "application/vnd.dataresource+json": {
                            "schema": {
                                "fields": [
                                    {
                                        "name": "SCHOOL_ID"
                                    },
                                    {
                                        "name": "SCHOOL_NAME"
                                    },
                                    {
                                        "name": "ED_BOARD"
                                    },
                                    {
                                        "name": "ADREES_SCH"
                                    }
                                ]
                            },
                            "data": []
                        },
                        "text/html": [
                            "<table>",
                            "<tr><th>SCHOOL_ID</th><th>SCHOOL_NAME</th><th>ED_BOARD</th><th>ADREES_SCH</th></tr>",
                            "</table>"
                        ]
                    }
                },
                {
                    "output_type": "execute_result",
                    "metadata": {},
                    "execution_count": 38,
                    "data": {
                        "application/vnd.dataresource+json": {
                            "schema": {
                                "fields": [
                                    {
                                        "name": "STAFF_ID"
                                    },
                                    {
                                        "name": "STAFF_TYPE"
                                    },
                                    {
                                        "name": "SCHOOL_ID"
                                    },
                                    {
                                        "name": "FIRST_NAME"
                                    },
                                    {
                                        "name": "LAST_NAME"
                                    },
                                    {
                                        "name": "AGE"
                                    },
                                    {
                                        "name": "DOB"
                                    },
                                    {
                                        "name": "GENDER"
                                    },
                                    {
                                        "name": "JOIN_DATE"
                                    },
                                    {
                                        "name": "ADDRESS_ID"
                                    }
                                ]
                            },
                            "data": []
                        },
                        "text/html": [
                            "<table>",
                            "<tr><th>STAFF_ID</th><th>STAFF_TYPE</th><th>SCHOOL_ID</th><th>FIRST_NAME</th><th>LAST_NAME</th><th>AGE</th><th>DOB</th><th>GENDER</th><th>JOIN_DATE</th><th>ADDRESS_ID</th></tr>",
                            "</table>"
                        ]
                    }
                }
            ],
            "execution_count": 38
        },
        {
            "cell_type": "code",
            "source": [
                "--INSERT VALUSE INTO REF TABLES ADDRESS--\r\n",
                "\r\n",
                "INSERT INTO ADDRESS VALUES ('01','STREET_01','KARACHI','SINDH','PAKISTAN');\r\n",
                "INSERT INTO ADDRESS VALUES ('02','STREET_02','KARACHI','SINDH','PAKISTAN');\r\n",
                "INSERT INTO ADDRESS VALUES ('03','STREET_03','KARACHI','SINDH','PAKISTAN');\r\n",
                "INSERT INTO ADDRESS VALUES ('04','STREET_04','KARACHI','SINDH','PAKISTAN');\r\n",
                "INSERT INTO ADDRESS VALUES ('05','STREET_05','KARACHI','SINDH','PAKISTAN');\r\n",
                "\r\n",
                "--INSERT VALUSE INTO REF TABLES  SCHOOL--\r\n",
                "\r\n",
                "\r\n",
                "INSERT INTO SCHOOL VALUES ('01','MD GRAMMER SCHOOL','KARACHI_BOARD','STREET-01 BLOCK-129 NEW KARACHI ');\r\n",
                "INSERT INTO SCHOOL VALUES ('02','MD GRAMMER SCHOOL','FADREAL_BOARD','STREET-01 BLOCK-129 NEW KARACHI ');\r\n",
                "INSERT INTO SCHOOL VALUES ('03','MD GRAMMER SCHOOL','SINDH_BOARD','STREET-01 BLOCK-129 NEW KARACHI ');\r\n",
                "INSERT INTO SCHOOL VALUES ('04','MD GRAMMER SCHOOL','ALEVEL_BOARD','STREET-01 BLOCK-129 NEW KARACHI ');\r\n",
                "INSERT INTO SCHOOL VALUES ('05','MD GRAMMER SCHOOL','OLEVE_BOARD','STREET-01 BLOCK-129 NEW KARACHI ');\r\n",
                "\r\n",
                "\r\n",
                "\r\n",
                ""
            ],
            "metadata": {
                "language": "sql",
                "azdata_cell_guid": "fd648811-2232-4df8-8d84-5d33b3b8ac30",
                "tags": []
            },
            "outputs": [
                {
                    "output_type": "display_data",
                    "data": {
                        "text/html": "(1 row affected)"
                    },
                    "metadata": {}
                },
                {
                    "output_type": "display_data",
                    "data": {
                        "text/html": "(1 row affected)"
                    },
                    "metadata": {}
                },
                {
                    "output_type": "display_data",
                    "data": {
                        "text/html": "(1 row affected)"
                    },
                    "metadata": {}
                },
                {
                    "output_type": "display_data",
                    "data": {
                        "text/html": "(1 row affected)"
                    },
                    "metadata": {}
                },
                {
                    "output_type": "display_data",
                    "data": {
                        "text/html": "(1 row affected)"
                    },
                    "metadata": {}
                },
                {
                    "output_type": "display_data",
                    "data": {
                        "text/html": "(1 row affected)"
                    },
                    "metadata": {}
                },
                {
                    "output_type": "display_data",
                    "data": {
                        "text/html": "(1 row affected)"
                    },
                    "metadata": {}
                },
                {
                    "output_type": "display_data",
                    "data": {
                        "text/html": "(1 row affected)"
                    },
                    "metadata": {}
                },
                {
                    "output_type": "display_data",
                    "data": {
                        "text/html": "(1 row affected)"
                    },
                    "metadata": {}
                },
                {
                    "output_type": "display_data",
                    "data": {
                        "text/html": "(1 row affected)"
                    },
                    "metadata": {}
                },
                {
                    "output_type": "display_data",
                    "data": {
                        "text/html": "Total execution time: 00:00:00.367"
                    },
                    "metadata": {}
                }
            ],
            "execution_count": 40
        },
        {
            "cell_type": "code",
            "source": [
                "--INSERT VALUSE INTO STAAF TABLES--\r\n",
                "\r\n",
                "INSERT INTO STAFF VALUES ('01' ,'SR.MANAGER'  ,'01'   ,'ARSALAN'  ,'ALI' ,'24' ,'1998-01-18'   ,'M'  ,'1998-01-18'  ,'01');\r\n",
                "INSERT INTO STAFF VALUES ('02' ,'JR.MANAGER'  ,'02'   ,'SHAN'     ,'ALI' ,'24' ,'1998-01-18'   ,'M'  ,'1998-01-18'  ,'02');\r\n",
                "INSERT INTO STAFF VALUES ('03' ,'MK.MANAGER'  ,'03'   ,'REHAN'    ,'ALI' ,'24' ,'1998-01-18'   ,'M'  ,'1998-01-18'  ,'03');\r\n",
                "INSERT INTO STAFF VALUES ('04' ,'ENGINEER'    ,'04'   ,'SHAYAN'   ,'ALI' ,'24' ,'1998-01-18'   ,'M'  ,'1998-01-18'  ,'04');\r\n",
                "INSERT INTO STAFF VALUES ('05' ,'ENGINEER'    ,'05'   ,'ARSALAN'  ,'ALI' ,'24' ,'1998-01-18'   ,'M'  ,'1998-01-18'  ,'05');\r\n",
                "\r\n",
                ""
            ],
            "metadata": {
                "azdata_cell_guid": "53ebab4e-33b9-4cba-992f-dd76680521d9",
                "language": "sql"
            },
            "outputs": [
                {
                    "output_type": "error",
                    "evalue": "Msg 2627, Level 14, State 1, Line 3\r\nViolation of PRIMARY KEY constraint 'PK_STF'. Cannot insert duplicate key in object 'dbo.STAFF'. The duplicate key value is (01).",
                    "ename": "",
                    "traceback": []
                },
                {
                    "output_type": "display_data",
                    "data": {
                        "text/html": "The statement has been terminated."
                    },
                    "metadata": {}
                },
                {
                    "output_type": "display_data",
                    "data": {
                        "text/html": "(1 row affected)"
                    },
                    "metadata": {}
                },
                {
                    "output_type": "display_data",
                    "data": {
                        "text/html": "(1 row affected)"
                    },
                    "metadata": {}
                },
                {
                    "output_type": "display_data",
                    "data": {
                        "text/html": "(1 row affected)"
                    },
                    "metadata": {}
                },
                {
                    "output_type": "display_data",
                    "data": {
                        "text/html": "(1 row affected)"
                    },
                    "metadata": {}
                },
                {
                    "output_type": "display_data",
                    "data": {
                        "text/html": "Total execution time: 00:00:00.084"
                    },
                    "metadata": {}
                }
            ],
            "execution_count": 47
        },
        {
            "cell_type": "code",
            "source": [
                " SELECT  *  FROM ADDRESS;\r\n",
                " SELECT  *  FROM SCHOOL;\r\n",
                " SELECT  *  FROM STAFF;"
            ],
            "metadata": {
                "azdata_cell_guid": "d4833971-c189-4d5a-9cb4-e031501a76d0",
                "language": "sql"
            },
            "outputs": [
                {
                    "output_type": "display_data",
                    "data": {
                        "text/html": "(5 rows affected)"
                    },
                    "metadata": {}
                },
                {
                    "output_type": "display_data",
                    "data": {
                        "text/html": "(5 rows affected)"
                    },
                    "metadata": {}
                },
                {
                    "output_type": "display_data",
                    "data": {
                        "text/html": "(5 rows affected)"
                    },
                    "metadata": {}
                },
                {
                    "output_type": "display_data",
                    "data": {
                        "text/html": "Total execution time: 00:00:02.206"
                    },
                    "metadata": {}
                },
                {
                    "output_type": "execute_result",
                    "metadata": {},
                    "execution_count": 48,
                    "data": {
                        "application/vnd.dataresource+json": {
                            "schema": {
                                "fields": [
                                    {
                                        "name": "ADDRESS_ID"
                                    },
                                    {
                                        "name": "STREET"
                                    },
                                    {
                                        "name": "CITY"
                                    },
                                    {
                                        "name": "STATE"
                                    },
                                    {
                                        "name": "COUNTRY"
                                    }
                                ]
                            },
                            "data": [
                                {
                                    "0": "01",
                                    "1": "STREET_01",
                                    "2": "KARACHI",
                                    "3": "SINDH",
                                    "4": "PAKISTAN"
                                },
                                {
                                    "0": "02",
                                    "1": "STREET_02",
                                    "2": "KARACHI",
                                    "3": "SINDH",
                                    "4": "PAKISTAN"
                                },
                                {
                                    "0": "03",
                                    "1": "STREET_03",
                                    "2": "KARACHI",
                                    "3": "SINDH",
                                    "4": "PAKISTAN"
                                },
                                {
                                    "0": "04",
                                    "1": "STREET_04",
                                    "2": "KARACHI",
                                    "3": "SINDH",
                                    "4": "PAKISTAN"
                                },
                                {
                                    "0": "05",
                                    "1": "STREET_05",
                                    "2": "KARACHI",
                                    "3": "SINDH",
                                    "4": "PAKISTAN"
                                }
                            ]
                        },
                        "text/html": [
                            "<table>",
                            "<tr><th>ADDRESS_ID</th><th>STREET</th><th>CITY</th><th>STATE</th><th>COUNTRY</th></tr>",
                            "<tr><td>01</td><td>STREET_01</td><td>KARACHI</td><td>SINDH</td><td>PAKISTAN</td></tr>",
                            "<tr><td>02</td><td>STREET_02</td><td>KARACHI</td><td>SINDH</td><td>PAKISTAN</td></tr>",
                            "<tr><td>03</td><td>STREET_03</td><td>KARACHI</td><td>SINDH</td><td>PAKISTAN</td></tr>",
                            "<tr><td>04</td><td>STREET_04</td><td>KARACHI</td><td>SINDH</td><td>PAKISTAN</td></tr>",
                            "<tr><td>05</td><td>STREET_05</td><td>KARACHI</td><td>SINDH</td><td>PAKISTAN</td></tr>",
                            "</table>"
                        ]
                    }
                },
                {
                    "output_type": "execute_result",
                    "metadata": {},
                    "execution_count": 48,
                    "data": {
                        "application/vnd.dataresource+json": {
                            "schema": {
                                "fields": [
                                    {
                                        "name": "SCHOOL_ID"
                                    },
                                    {
                                        "name": "SCHOOL_NAME"
                                    },
                                    {
                                        "name": "ED_BOARD"
                                    },
                                    {
                                        "name": "ADREES_SCH"
                                    }
                                ]
                            },
                            "data": [
                                {
                                    "0": "01",
                                    "1": "MD GRAMMER SCHOOL",
                                    "2": "KARACHI_BOARD",
                                    "3": "STREET-01 BLOCK-129 NEW KARACHI "
                                },
                                {
                                    "0": "02",
                                    "1": "MD GRAMMER SCHOOL",
                                    "2": "FADREAL_BOARD",
                                    "3": "STREET-01 BLOCK-129 NEW KARACHI "
                                },
                                {
                                    "0": "03",
                                    "1": "MD GRAMMER SCHOOL",
                                    "2": "SINDH_BOARD",
                                    "3": "STREET-01 BLOCK-129 NEW KARACHI "
                                },
                                {
                                    "0": "04",
                                    "1": "MD GRAMMER SCHOOL",
                                    "2": "ALEVEL_BOARD",
                                    "3": "STREET-01 BLOCK-129 NEW KARACHI "
                                },
                                {
                                    "0": "05",
                                    "1": "MD GRAMMER SCHOOL",
                                    "2": "OLEVE_BOARD",
                                    "3": "STREET-01 BLOCK-129 NEW KARACHI "
                                }
                            ]
                        },
                        "text/html": [
                            "<table>",
                            "<tr><th>SCHOOL_ID</th><th>SCHOOL_NAME</th><th>ED_BOARD</th><th>ADREES_SCH</th></tr>",
                            "<tr><td>01</td><td>MD GRAMMER SCHOOL</td><td>KARACHI_BOARD</td><td>STREET-01 BLOCK-129 NEW KARACHI </td></tr>",
                            "<tr><td>02</td><td>MD GRAMMER SCHOOL</td><td>FADREAL_BOARD</td><td>STREET-01 BLOCK-129 NEW KARACHI </td></tr>",
                            "<tr><td>03</td><td>MD GRAMMER SCHOOL</td><td>SINDH_BOARD</td><td>STREET-01 BLOCK-129 NEW KARACHI </td></tr>",
                            "<tr><td>04</td><td>MD GRAMMER SCHOOL</td><td>ALEVEL_BOARD</td><td>STREET-01 BLOCK-129 NEW KARACHI </td></tr>",
                            "<tr><td>05</td><td>MD GRAMMER SCHOOL</td><td>OLEVE_BOARD</td><td>STREET-01 BLOCK-129 NEW KARACHI </td></tr>",
                            "</table>"
                        ]
                    }
                },
                {
                    "output_type": "execute_result",
                    "metadata": {},
                    "execution_count": 48,
                    "data": {
                        "application/vnd.dataresource+json": {
                            "schema": {
                                "fields": [
                                    {
                                        "name": "STAFF_ID"
                                    },
                                    {
                                        "name": "STAFF_TYPE"
                                    },
                                    {
                                        "name": "SCHOOL_ID"
                                    },
                                    {
                                        "name": "FIRST_NAME"
                                    },
                                    {
                                        "name": "LAST_NAME"
                                    },
                                    {
                                        "name": "AGE"
                                    },
                                    {
                                        "name": "DOB"
                                    },
                                    {
                                        "name": "GENDER"
                                    },
                                    {
                                        "name": "JOIN_DATE"
                                    },
                                    {
                                        "name": "ADDRESS_ID"
                                    }
                                ]
                            },
                            "data": [
                                {
                                    "0": "01",
                                    "1": "SR.MANAGER",
                                    "2": "01",
                                    "3": "ARSALAN",
                                    "4": "ALI",
                                    "5": "24",
                                    "6": "1998-01-18",
                                    "7": "M",
                                    "8": "1998-01-18",
                                    "9": "01"
                                },
                                {
                                    "0": "02",
                                    "1": "JR.MANAGER",
                                    "2": "02",
                                    "3": "SHAN",
                                    "4": "ALI",
                                    "5": "24",
                                    "6": "1998-01-18",
                                    "7": "M",
                                    "8": "1998-01-18",
                                    "9": "02"
                                },
                                {
                                    "0": "03",
                                    "1": "MK.MANAGER",
                                    "2": "03",
                                    "3": "REHAN",
                                    "4": "ALI",
                                    "5": "24",
                                    "6": "1998-01-18",
                                    "7": "M",
                                    "8": "1998-01-18",
                                    "9": "03"
                                },
                                {
                                    "0": "04",
                                    "1": "ENGINEER",
                                    "2": "04",
                                    "3": "SHAYAN",
                                    "4": "ALI",
                                    "5": "24",
                                    "6": "1998-01-18",
                                    "7": "M",
                                    "8": "1998-01-18",
                                    "9": "04"
                                },
                                {
                                    "0": "05",
                                    "1": "ENGINEER",
                                    "2": "05",
                                    "3": "ARSALAN",
                                    "4": "ALI",
                                    "5": "24",
                                    "6": "1998-01-18",
                                    "7": "M",
                                    "8": "1998-01-18",
                                    "9": "05"
                                }
                            ]
                        },
                        "text/html": [
                            "<table>",
                            "<tr><th>STAFF_ID</th><th>STAFF_TYPE</th><th>SCHOOL_ID</th><th>FIRST_NAME</th><th>LAST_NAME</th><th>AGE</th><th>DOB</th><th>GENDER</th><th>JOIN_DATE</th><th>ADDRESS_ID</th></tr>",
                            "<tr><td>01</td><td>SR.MANAGER</td><td>01</td><td>ARSALAN</td><td>ALI</td><td>24</td><td>1998-01-18</td><td>M</td><td>1998-01-18</td><td>01</td></tr>",
                            "<tr><td>02</td><td>JR.MANAGER</td><td>02</td><td>SHAN</td><td>ALI</td><td>24</td><td>1998-01-18</td><td>M</td><td>1998-01-18</td><td>02</td></tr>",
                            "<tr><td>03</td><td>MK.MANAGER</td><td>03</td><td>REHAN</td><td>ALI</td><td>24</td><td>1998-01-18</td><td>M</td><td>1998-01-18</td><td>03</td></tr>",
                            "<tr><td>04</td><td>ENGINEER</td><td>04</td><td>SHAYAN</td><td>ALI</td><td>24</td><td>1998-01-18</td><td>M</td><td>1998-01-18</td><td>04</td></tr>",
                            "<tr><td>05</td><td>ENGINEER</td><td>05</td><td>ARSALAN</td><td>ALI</td><td>24</td><td>1998-01-18</td><td>M</td><td>1998-01-18</td><td>05</td></tr>",
                            "</table>"
                        ]
                    }
                }
            ],
            "execution_count": 48
        }
    ]
}