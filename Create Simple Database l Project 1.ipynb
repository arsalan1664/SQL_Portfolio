{
    "metadata": {
        "kernelspec": {
            "name": "SQL",
            "display_name": "SQL",
            "language": "sql"
        },
        "language_info": {
            "name": "sql",
            "version": ""
        }
    },
    "nbformat_minor": 2,
    "nbformat": 4,
    "cells": [
        {
            "cell_type": "markdown",
            "source": [
                "# Practise Session 1\n",
                "\n",
                "### Learnt about\n",
                "\n",
                "- Creating database \n",
                "- Creating table and insert values\n",
                "- Altering table by adding colounm\n",
                "- Constrains and their functions\n",
                "- primary and forign keys\n",
                "\n",
                "Credit \n",
                "\n",
                "- SQL Tutorial by intellipaat\n",
                "- https://www.youtube.com/watch?v=2ELmLBQQ3SI      (Duration  1:20   to   1:40)"
            ],
            "metadata": {
                "azdata_cell_guid": "6ad2b2d8-7cf7-4c01-a62e-18d37b97285e"
            },
            "attachments": {}
        },
        {
            "cell_type": "code",
            "source": [
                "CREATE DATABASE DataBase_1"
            ],
            "metadata": {
                "azdata_cell_guid": "59fec96a-c87f-42be-9c3e-6043e4c25851",
                "language": "sql",
                "tags": []
            },
            "outputs": [
                {
                    "output_type": "display_data",
                    "data": {
                        "text/html": "Commands completed successfully."
                    },
                    "metadata": {}
                },
                {
                    "output_type": "display_data",
                    "data": {
                        "text/html": "Total execution time: 00:00:00.110"
                    },
                    "metadata": {}
                }
            ],
            "execution_count": 29
        },
        {
            "cell_type": "code",
            "source": [
                "USE DataBase_1\r\n",
                "\r\n",
                "CREATE table emp\r\n",
                "  (  emp_no      NUMERIC(4),\r\n",
                "     emp_name    VARCHAR (20),\r\n",
                "     Gender      VARCHAR(10),\r\n",
                "     desg        VARCHAR(40),\r\n",
                "  )"
            ],
            "metadata": {
                "azdata_cell_guid": "ab21871b-b93d-4145-b1ee-f395dc94378b",
                "language": "sql"
            },
            "outputs": [
                {
                    "output_type": "display_data",
                    "data": {
                        "text/html": "Commands completed successfully."
                    },
                    "metadata": {}
                },
                {
                    "output_type": "display_data",
                    "data": {
                        "text/html": "Total execution time: 00:00:00.193"
                    },
                    "metadata": {}
                }
            ],
            "execution_count": 30
        },
        {
            "cell_type": "code",
            "source": [
                "sp_help emp ---Discribe a Table Emp---"
            ],
            "metadata": {
                "azdata_cell_guid": "9bbd8a18-bf08-4773-833b-ce9a352b9214",
                "language": "sql"
            },
            "outputs": [
                {
                    "output_type": "display_data",
                    "data": {
                        "text/html": " "
                    },
                    "metadata": {}
                },
                {
                    "output_type": "display_data",
                    "data": {
                        "text/html": " "
                    },
                    "metadata": {}
                },
                {
                    "output_type": "display_data",
                    "data": {
                        "text/html": " "
                    },
                    "metadata": {}
                },
                {
                    "output_type": "display_data",
                    "data": {
                        "text/html": " "
                    },
                    "metadata": {}
                },
                {
                    "output_type": "display_data",
                    "data": {
                        "text/html": " "
                    },
                    "metadata": {}
                },
                {
                    "output_type": "display_data",
                    "data": {
                        "text/html": " "
                    },
                    "metadata": {}
                },
                {
                    "output_type": "display_data",
                    "data": {
                        "text/html": "The object 'emp' does not have any indexes, or you do not have permissions."
                    },
                    "metadata": {}
                },
                {
                    "output_type": "display_data",
                    "data": {
                        "text/html": " "
                    },
                    "metadata": {}
                },
                {
                    "output_type": "display_data",
                    "data": {
                        "text/html": "No constraints are defined on object 'emp', or you do not have permissions."
                    },
                    "metadata": {}
                },
                {
                    "output_type": "display_data",
                    "data": {
                        "text/html": " "
                    },
                    "metadata": {}
                },
                {
                    "output_type": "display_data",
                    "data": {
                        "text/html": "No foreign keys reference table 'emp', or you do not have permissions on referencing tables."
                    },
                    "metadata": {}
                },
                {
                    "output_type": "display_data",
                    "data": {
                        "text/html": "No views with schema binding reference table 'emp'."
                    },
                    "metadata": {}
                },
                {
                    "output_type": "display_data",
                    "data": {
                        "text/html": "Total execution time: 00:00:10.253"
                    },
                    "metadata": {}
                },
                {
                    "output_type": "execute_result",
                    "execution_count": 31,
                    "data": {
                        "application/vnd.dataresource+json": {
                            "schema": {
                                "fields": [
                                    {
                                        "name": "Name"
                                    },
                                    {
                                        "name": "Owner"
                                    },
                                    {
                                        "name": "Type"
                                    },
                                    {
                                        "name": "Created_datetime"
                                    }
                                ]
                            },
                            "data": [
                                {
                                    "0": "emp",
                                    "1": "dbo",
                                    "2": "user table",
                                    "3": "2022-12-08 19:46:50.193"
                                }
                            ]
                        },
                        "text/html": "<table><tr><th>Name</th><th>Owner</th><th>Type</th><th>Created_datetime</th></tr><tr><td>emp</td><td>dbo</td><td>user table</td><td>2022-12-08 19:46:50.193</td></tr></table>"
                    },
                    "metadata": {}
                },
                {
                    "output_type": "execute_result",
                    "execution_count": 31,
                    "data": {
                        "application/vnd.dataresource+json": {
                            "schema": {
                                "fields": [
                                    {
                                        "name": "Column_name"
                                    },
                                    {
                                        "name": "Type"
                                    },
                                    {
                                        "name": "Computed"
                                    },
                                    {
                                        "name": "Length"
                                    },
                                    {
                                        "name": "Prec"
                                    },
                                    {
                                        "name": "Scale"
                                    },
                                    {
                                        "name": "Nullable"
                                    },
                                    {
                                        "name": "TrimTrailingBlanks"
                                    },
                                    {
                                        "name": "FixedLenNullInSource"
                                    },
                                    {
                                        "name": "Collation"
                                    }
                                ]
                            },
                            "data": [
                                {
                                    "0": "emp_no",
                                    "1": "numeric",
                                    "2": "no",
                                    "3": "5",
                                    "4": "4    ",
                                    "5": "0    ",
                                    "6": "yes",
                                    "7": "(n/a)",
                                    "8": "(n/a)",
                                    "9": "NULL"
                                },
                                {
                                    "0": "emp_name",
                                    "1": "varchar",
                                    "2": "no",
                                    "3": "20",
                                    "4": "     ",
                                    "5": "     ",
                                    "6": "yes",
                                    "7": "no",
                                    "8": "yes",
                                    "9": "SQL_Latin1_General_CP1_CI_AS"
                                },
                                {
                                    "0": "Gender",
                                    "1": "varchar",
                                    "2": "no",
                                    "3": "10",
                                    "4": "     ",
                                    "5": "     ",
                                    "6": "yes",
                                    "7": "no",
                                    "8": "yes",
                                    "9": "SQL_Latin1_General_CP1_CI_AS"
                                },
                                {
                                    "0": "desg",
                                    "1": "varchar",
                                    "2": "no",
                                    "3": "40",
                                    "4": "     ",
                                    "5": "     ",
                                    "6": "yes",
                                    "7": "no",
                                    "8": "yes",
                                    "9": "SQL_Latin1_General_CP1_CI_AS"
                                }
                            ]
                        },
                        "text/html": "<table><tr><th>Column_name</th><th>Type</th><th>Computed</th><th>Length</th><th>Prec</th><th>Scale</th><th>Nullable</th><th>TrimTrailingBlanks</th><th>FixedLenNullInSource</th><th>Collation</th></tr><tr><td>emp_no</td><td>numeric</td><td>no</td><td>5</td><td>4    </td><td>0    </td><td>yes</td><td>(n/a)</td><td>(n/a)</td><td>NULL</td></tr><tr><td>emp_name</td><td>varchar</td><td>no</td><td>20</td><td>     </td><td>     </td><td>yes</td><td>no</td><td>yes</td><td>SQL_Latin1_General_CP1_CI_AS</td></tr><tr><td>Gender</td><td>varchar</td><td>no</td><td>10</td><td>     </td><td>     </td><td>yes</td><td>no</td><td>yes</td><td>SQL_Latin1_General_CP1_CI_AS</td></tr><tr><td>desg</td><td>varchar</td><td>no</td><td>40</td><td>     </td><td>     </td><td>yes</td><td>no</td><td>yes</td><td>SQL_Latin1_General_CP1_CI_AS</td></tr></table>"
                    },
                    "metadata": {}
                },
                {
                    "output_type": "execute_result",
                    "execution_count": 31,
                    "data": {
                        "application/vnd.dataresource+json": {
                            "schema": {
                                "fields": [
                                    {
                                        "name": "Identity"
                                    },
                                    {
                                        "name": "Seed"
                                    },
                                    {
                                        "name": "Increment"
                                    },
                                    {
                                        "name": "Not For Replication"
                                    }
                                ]
                            },
                            "data": [
                                {
                                    "0": "No identity column defined.",
                                    "1": "NULL",
                                    "2": "NULL",
                                    "3": "NULL"
                                }
                            ]
                        },
                        "text/html": "<table><tr><th>Identity</th><th>Seed</th><th>Increment</th><th>Not For Replication</th></tr><tr><td>No identity column defined.</td><td>NULL</td><td>NULL</td><td>NULL</td></tr></table>"
                    },
                    "metadata": {}
                },
                {
                    "output_type": "execute_result",
                    "execution_count": 31,
                    "data": {
                        "application/vnd.dataresource+json": {
                            "schema": {
                                "fields": [
                                    {
                                        "name": "RowGuidCol"
                                    }
                                ]
                            },
                            "data": [
                                {
                                    "0": "No rowguidcol column defined."
                                }
                            ]
                        },
                        "text/html": "<table><tr><th>RowGuidCol</th></tr><tr><td>No rowguidcol column defined.</td></tr></table>"
                    },
                    "metadata": {}
                },
                {
                    "output_type": "execute_result",
                    "execution_count": 31,
                    "data": {
                        "application/vnd.dataresource+json": {
                            "schema": {
                                "fields": [
                                    {
                                        "name": "Data_located_on_filegroup"
                                    }
                                ]
                            },
                            "data": [
                                {
                                    "0": "PRIMARY"
                                }
                            ]
                        },
                        "text/html": "<table><tr><th>Data_located_on_filegroup</th></tr><tr><td>PRIMARY</td></tr></table>"
                    },
                    "metadata": {}
                }
            ],
            "execution_count": 31
        },
        {
            "cell_type": "code",
            "source": [
                "---CHECKING THE GENERATED COLOUNMS--\r\n",
                "SELECT  *  FROM  emp"
            ],
            "metadata": {
                "language": "sql",
                "azdata_cell_guid": "9fed4b66-8c3b-4a64-8e4f-509bf632058a"
            },
            "outputs": [
                {
                    "output_type": "display_data",
                    "data": {
                        "text/html": "(0 rows affected)"
                    },
                    "metadata": {}
                },
                {
                    "output_type": "display_data",
                    "data": {
                        "text/html": "Total execution time: 00:00:00.040"
                    },
                    "metadata": {}
                },
                {
                    "output_type": "execute_result",
                    "execution_count": 32,
                    "data": {
                        "application/vnd.dataresource+json": {
                            "schema": {
                                "fields": [
                                    {
                                        "name": "emp_no"
                                    },
                                    {
                                        "name": "emp_name"
                                    },
                                    {
                                        "name": "Gender"
                                    },
                                    {
                                        "name": "desg"
                                    }
                                ]
                            },
                            "data": []
                        },
                        "text/html": "<table><tr><th>emp_no</th><th>emp_name</th><th>Gender</th><th>desg</th></tr></table>"
                    },
                    "metadata": {}
                }
            ],
            "execution_count": 32
        },
        {
            "cell_type": "code",
            "source": [
                "--- PUTTING THE VALUES INTHE COLUNMS---\r\n",
                "\r\n",
                "INSERT  INTO  emp  VALUES (1001, 'Sadiq', 'Male', 'Trainer')\r\n",
                "INSERT  INTO  emp  VALUES (1002, 'Riya', 'Female', 'Manager')\r\n",
                "INSERT  INTO  emp  VALUES (1003, 'Raj', 'Male', 'Accountant')\r\n",
                "INSERT  INTO  emp  VALUES (1004, 'Amith', 'Male', 'Trainer')\r\n",
                ""
            ],
            "metadata": {
                "azdata_cell_guid": "81b583ca-5861-4397-bc6e-44a6f34bf939",
                "language": "sql"
            },
            "outputs": [
                {
                    "output_type": "display_data",
                    "data": {
                        "text/html": "(1 row affected)"
                    },
                    "metadata": {}
                },
                {
                    "output_type": "display_data",
                    "data": {
                        "text/html": "(1 row affected)"
                    },
                    "metadata": {}
                },
                {
                    "output_type": "display_data",
                    "data": {
                        "text/html": "(1 row affected)"
                    },
                    "metadata": {}
                },
                {
                    "output_type": "display_data",
                    "data": {
                        "text/html": "(1 row affected)"
                    },
                    "metadata": {}
                },
                {
                    "output_type": "display_data",
                    "data": {
                        "text/html": "Total execution time: 00:00:00.093"
                    },
                    "metadata": {}
                }
            ],
            "execution_count": 33
        },
        {
            "cell_type": "code",
            "source": [
                ""
            ],
            "metadata": {
                "azdata_cell_guid": "7573c66f-e9fd-43a3-9aa2-8212795e96de",
                "language": "sql"
            },
            "outputs": [],
            "execution_count": null
        },
        {
            "cell_type": "markdown",
            "source": [
                "DDL--   CREATE, DROP, ALTER\n",
                "\n",
                "DML--  INSERT,UPDATE, DELETE \n",
                "\n",
                "DQL--   SELECT,"
            ],
            "metadata": {
                "azdata_cell_guid": "37cb69da-a6f9-4d07-8e7d-ba4bab897cb2",
                "language": ""
            },
            "attachments": {}
        },
        {
            "cell_type": "code",
            "source": [
                "---MODIFY DESG OF EMPLOYEE 1002 ---\r\n",
                "UPDATE emp SET desg = 'Sr Manager'\r\n",
                "WHERE EMP_NO = 1002"
            ],
            "metadata": {
                "azdata_cell_guid": "4f07d037-56c3-416e-bd56-b74b302cac8b",
                "language": "sql"
            },
            "outputs": [
                {
                    "output_type": "display_data",
                    "data": {
                        "text/html": "(1 row affected)"
                    },
                    "metadata": {}
                },
                {
                    "output_type": "display_data",
                    "data": {
                        "text/html": "Total execution time: 00:00:05.202"
                    },
                    "metadata": {}
                }
            ],
            "execution_count": 34
        },
        {
            "cell_type": "code",
            "source": [
                "---DELETE THE 1001 EMPLOYEE--\r\n",
                "DELETE  FROM emp \r\n",
                "WHERE emp_no = 1001"
            ],
            "metadata": {
                "language": "sql",
                "azdata_cell_guid": "72b8f97b-03a7-47db-8708-fd9e2cb635f0"
            },
            "outputs": [
                {
                    "output_type": "display_data",
                    "data": {
                        "text/html": "(1 row affected)"
                    },
                    "metadata": {}
                },
                {
                    "output_type": "display_data",
                    "data": {
                        "text/html": "Total execution time: 00:00:00.048"
                    },
                    "metadata": {}
                }
            ],
            "execution_count": 35
        },
        {
            "cell_type": "code",
            "source": [
                "--ADDING ANOTHER COLOUNM IN TBALE EMP--\r\n",
                "ALTER TABLE EMP ADD SAL NUMERIC(8)\r\n",
                ""
            ],
            "metadata": {
                "language": "sql",
                "azdata_cell_guid": "fe0c599f-a0af-4c9b-ab4c-3a65919c50f7"
            },
            "outputs": [
                {
                    "output_type": "display_data",
                    "data": {
                        "text/html": "Commands completed successfully."
                    },
                    "metadata": {}
                },
                {
                    "output_type": "display_data",
                    "data": {
                        "text/html": "Total execution time: 00:00:00.306"
                    },
                    "metadata": {}
                }
            ],
            "execution_count": 36
        },
        {
            "cell_type": "code",
            "source": [
                "---FOR REMOVE COLONM ---\r\n",
                "---ALTER TABLE DROP COLUMN SAL---\r\n",
                "\r\n",
                "--- ADD 1 RECORD ---\r\n",
                "INSERT  INTO  emp  VALUES (1001, NULL , 'Male', 'Trainer', NULL)\r\n",
                "\r\n",
                ""
            ],
            "metadata": {
                "language": "sql",
                "azdata_cell_guid": "375542e5-85c9-472e-ae5a-b4a2fbd1e949"
            },
            "outputs": [
                {
                    "output_type": "display_data",
                    "data": {
                        "text/html": "(1 row affected)"
                    },
                    "metadata": {}
                },
                {
                    "output_type": "display_data",
                    "data": {
                        "text/html": "Total execution time: 00:00:00.088"
                    },
                    "metadata": {}
                }
            ],
            "execution_count": 39
        },
        {
            "cell_type": "markdown",
            "source": [
                "# TABLE WITH CONSTRAIN\n",
                "\n",
                "1. PRIMARY KEY\n",
                "2. NOT NULL\n",
                "3. CHECK\n",
                "4. UNIQUE"
            ],
            "metadata": {
                "language": "sql",
                "azdata_cell_guid": "0b992c4a-a476-44fe-b22e-7e88ff2f8cfb"
            },
            "attachments": {}
        },
        {
            "cell_type": "code",
            "source": [
                "CREATE table emp2\r\n",
                "  (  emp_no      NUMERIC(4)     PRIMARY KEY,\r\n",
                "     emp_name    VARCHAR (20)   NOT NULL,\r\n",
                "     Gender      VARCHAR(10)    CHECK(Gender IN('M','F')),\r\n",
                "     desg        VARCHAR(40),   \r\n",
                "     Sal         NUMERIC(10),        \r\n",
                "     Email       VARCHAR(100)    UNIQUE,\r\n",
                "      )\r\n",
                ""
            ],
            "metadata": {
                "language": "sql",
                "azdata_cell_guid": "d3bef2cf-0765-434e-8e55-a7aba532ebef",
                "tags": []
            },
            "outputs": [
                {
                    "output_type": "display_data",
                    "data": {
                        "text/html": "Commands completed successfully."
                    },
                    "metadata": {}
                },
                {
                    "output_type": "display_data",
                    "data": {
                        "text/html": "Total execution time: 00:00:00.225"
                    },
                    "metadata": {}
                }
            ],
            "execution_count": 49
        },
        {
            "cell_type": "markdown",
            "source": [
                "# FORIGN KEYS\n",
                "\n",
                "Creating another table and refrence it DEPTID colounm"
            ],
            "metadata": {
                "language": "",
                "azdata_cell_guid": "0b2107bc-54ea-4db9-9d98-148ea7ca3b97"
            },
            "attachments": {}
        },
        {
            "cell_type": "code",
            "source": [
                "CREATE TABLE DEPT \r\n",
                "( \r\n",
                "    DEPT_ID  INT  PRIMARY KEY,\r\n",
                "    DNAME    VARCHAR (30),\r\n",
                "    Loc      VARCHAR(50)\r\n",
                "\r\n",
                "  )"
            ],
            "metadata": {
                "azdata_cell_guid": "b2819770-3736-455b-bdae-88f0e921df10",
                "language": "sql"
            },
            "outputs": [
                {
                    "output_type": "display_data",
                    "data": {
                        "text/html": "Commands completed successfully."
                    },
                    "metadata": {}
                },
                {
                    "output_type": "display_data",
                    "data": {
                        "text/html": "Total execution time: 00:00:01.370"
                    },
                    "metadata": {}
                }
            ],
            "execution_count": 17
        },
        {
            "cell_type": "code",
            "source": [
                "SELECT * FROM DEPT "
            ],
            "metadata": {
                "language": "sql",
                "azdata_cell_guid": "fe6be09b-864b-433c-ae99-94c74cd14dfc"
            },
            "outputs": [
                {
                    "output_type": "display_data",
                    "data": {
                        "text/html": "(0 rows affected)"
                    },
                    "metadata": {}
                },
                {
                    "output_type": "display_data",
                    "data": {
                        "text/html": "Total execution time: 00:00:00.011"
                    },
                    "metadata": {}
                },
                {
                    "output_type": "execute_result",
                    "metadata": {},
                    "execution_count": 18,
                    "data": {
                        "application/vnd.dataresource+json": {
                            "schema": {
                                "fields": [
                                    {
                                        "name": "DEPT_ID"
                                    },
                                    {
                                        "name": "DNAME"
                                    },
                                    {
                                        "name": "Loc"
                                    }
                                ]
                            },
                            "data": []
                        },
                        "text/html": [
                            "<table>",
                            "<tr><th>DEPT_ID</th><th>DNAME</th><th>Loc</th></tr>",
                            "</table>"
                        ]
                    }
                }
            ],
            "execution_count": 18
        },
        {
            "cell_type": "code",
            "source": [
                "--ENTERING VALUES--\r\n",
                "INSERT INTO DEPT VALUES (10,'HR', 'MUMBAI')\r\n",
                "INSERT INTO DEPT VALUES (20,'MARK', 'DEHLI')\r\n",
                "INSERT INTO DEPT VALUES (30,'IT', 'BANGALORE')"
            ],
            "metadata": {
                "language": "sql",
                "azdata_cell_guid": "166b89b1-ca15-4cbb-9981-8fcc17ec37de"
            },
            "outputs": [
                {
                    "output_type": "display_data",
                    "data": {
                        "text/html": "(1 row affected)"
                    },
                    "metadata": {}
                },
                {
                    "output_type": "display_data",
                    "data": {
                        "text/html": "(1 row affected)"
                    },
                    "metadata": {}
                },
                {
                    "output_type": "display_data",
                    "data": {
                        "text/html": "(1 row affected)"
                    },
                    "metadata": {}
                },
                {
                    "output_type": "display_data",
                    "data": {
                        "text/html": "Total execution time: 00:00:00.129"
                    },
                    "metadata": {}
                }
            ],
            "execution_count": 19
        },
        {
            "cell_type": "code",
            "source": [
                "CREATE table emp3\r\n",
                "  (  emp_no      NUMERIC(4)     PRIMARY KEY,\r\n",
                "     emp_name    VARCHAR (20)   NOT NULL,\r\n",
                "     Gender      VARCHAR(10)    CHECK(Gender IN('M','F')),\r\n",
                "     desg        VARCHAR(40),   \r\n",
                "     Sal         NUMERIC(10),        \r\n",
                "     Email       VARCHAR(100)    ,\r\n",
                "    -- DEPT_ID     int             REFERENCES DEPT (DEPT_ID),\r\n",
                "      )\r\n",
                "\r\n",
                "\r\n",
                "INSERT  INTO  emp3  VALUES (1001, 'Sadiq', 'M', 'Trainer', null , null)\r\n",
                "INSERT  INTO  emp3  VALUES (1002, 'Riya', 'F', 'Manager' ,null , null)\r\n",
                "INSERT  INTO  emp3  VALUES (1003, 'Raj', 'M', 'Accountant', null , null)\r\n",
                "INSERT  INTO  emp3  VALUES (1004, 'Amith', 'M', 'Trainer', null , null)"
            ],
            "metadata": {
                "language": "sql",
                "azdata_cell_guid": "02e5a519-d238-47c0-af05-539b9cdd4d10"
            },
            "outputs": [
                {
                    "output_type": "display_data",
                    "data": {
                        "text/html": "(1 row affected)"
                    },
                    "metadata": {}
                },
                {
                    "output_type": "display_data",
                    "data": {
                        "text/html": "(1 row affected)"
                    },
                    "metadata": {}
                },
                {
                    "output_type": "display_data",
                    "data": {
                        "text/html": "(1 row affected)"
                    },
                    "metadata": {}
                },
                {
                    "output_type": "display_data",
                    "data": {
                        "text/html": "(1 row affected)"
                    },
                    "metadata": {}
                },
                {
                    "output_type": "display_data",
                    "data": {
                        "text/html": "Total execution time: 00:00:00.305"
                    },
                    "metadata": {}
                }
            ],
            "execution_count": 12
        },
        {
            "cell_type": "code",
            "source": [
                "select * from emp3\r\n",
                "select * from DEPT"
            ],
            "metadata": {
                "language": "sql",
                "azdata_cell_guid": "b8d0833c-1f1d-4d97-a3cb-7d150fe30745"
            },
            "outputs": [
                {
                    "output_type": "display_data",
                    "data": {
                        "text/html": "(4 rows affected)"
                    },
                    "metadata": {}
                },
                {
                    "output_type": "display_data",
                    "data": {
                        "text/html": "Total execution time: 00:00:00.065"
                    },
                    "metadata": {}
                },
                {
                    "output_type": "execute_result",
                    "metadata": {},
                    "execution_count": 16,
                    "data": {
                        "application/vnd.dataresource+json": {
                            "schema": {
                                "fields": [
                                    {
                                        "name": "emp_no"
                                    },
                                    {
                                        "name": "emp_name"
                                    },
                                    {
                                        "name": "Gender"
                                    },
                                    {
                                        "name": "desg"
                                    },
                                    {
                                        "name": "Sal"
                                    },
                                    {
                                        "name": "Email"
                                    }
                                ]
                            },
                            "data": [
                                {
                                    "0": "1001",
                                    "1": "Sadiq",
                                    "2": "M",
                                    "3": "Trainer",
                                    "4": "NULL",
                                    "5": "NULL"
                                },
                                {
                                    "0": "1002",
                                    "1": "Riya",
                                    "2": "F",
                                    "3": "Manager",
                                    "4": "NULL",
                                    "5": "NULL"
                                },
                                {
                                    "0": "1003",
                                    "1": "Raj",
                                    "2": "M",
                                    "3": "Accountant",
                                    "4": "NULL",
                                    "5": "NULL"
                                },
                                {
                                    "0": "1004",
                                    "1": "Amith",
                                    "2": "M",
                                    "3": "Trainer",
                                    "4": "NULL",
                                    "5": "NULL"
                                }
                            ]
                        },
                        "text/html": [
                            "<table>",
                            "<tr><th>emp_no</th><th>emp_name</th><th>Gender</th><th>desg</th><th>Sal</th><th>Email</th></tr>",
                            "<tr><td>1001</td><td>Sadiq</td><td>M</td><td>Trainer</td><td>NULL</td><td>NULL</td></tr>",
                            "<tr><td>1002</td><td>Riya</td><td>F</td><td>Manager</td><td>NULL</td><td>NULL</td></tr>",
                            "<tr><td>1003</td><td>Raj</td><td>M</td><td>Accountant</td><td>NULL</td><td>NULL</td></tr>",
                            "<tr><td>1004</td><td>Amith</td><td>M</td><td>Trainer</td><td>NULL</td><td>NULL</td></tr>",
                            "</table>"
                        ]
                    }
                },
                {
                    "output_type": "error",
                    "evalue": "Msg 208, Level 16, State 1, Line 2\r\nInvalid object name 'DEPT'.",
                    "ename": "",
                    "traceback": []
                }
            ],
            "execution_count": 16
        },
        {
            "cell_type": "code",
            "source": [
                "ALTER TABLE EMP3 ADD DEPT_ID     int           REFERENCES DEPT (DEPT_ID)"
            ],
            "metadata": {
                "language": "sql",
                "azdata_cell_guid": "8fb04cc0-e6ca-48ab-bf4a-2efdeccf6fc0"
            },
            "outputs": [
                {
                    "output_type": "error",
                    "evalue": "Msg 2705, Level 16, State 4, Line 1\r\nColumn names in each table must be unique. Column name 'DEPT_ID' in table 'EMP3' is specified more than once.",
                    "ename": "",
                    "traceback": []
                },
                {
                    "output_type": "display_data",
                    "data": {
                        "text/html": "Total execution time: 00:00:00.036"
                    },
                    "metadata": {}
                }
            ],
            "execution_count": 22
        },
        {
            "cell_type": "code",
            "source": [
                "SELECT * FROM EMP3"
            ],
            "metadata": {
                "language": "sql",
                "azdata_cell_guid": "bc71407d-b5b9-4792-b7de-6897962b71ee"
            },
            "outputs": [
                {
                    "output_type": "display_data",
                    "data": {
                        "text/html": "(4 rows affected)"
                    },
                    "metadata": {}
                },
                {
                    "output_type": "display_data",
                    "data": {
                        "text/html": "Total execution time: 00:00:00.129"
                    },
                    "metadata": {}
                },
                {
                    "output_type": "execute_result",
                    "metadata": {},
                    "execution_count": 21,
                    "data": {
                        "application/vnd.dataresource+json": {
                            "schema": {
                                "fields": [
                                    {
                                        "name": "emp_no"
                                    },
                                    {
                                        "name": "emp_name"
                                    },
                                    {
                                        "name": "Gender"
                                    },
                                    {
                                        "name": "desg"
                                    },
                                    {
                                        "name": "Sal"
                                    },
                                    {
                                        "name": "Email"
                                    },
                                    {
                                        "name": "DEPT_ID"
                                    }
                                ]
                            },
                            "data": [
                                {
                                    "0": "1001",
                                    "1": "Sadiq",
                                    "2": "M",
                                    "3": "Trainer",
                                    "4": "NULL",
                                    "5": "NULL",
                                    "6": "NULL"
                                },
                                {
                                    "0": "1002",
                                    "1": "Riya",
                                    "2": "F",
                                    "3": "Manager",
                                    "4": "NULL",
                                    "5": "NULL",
                                    "6": "NULL"
                                },
                                {
                                    "0": "1003",
                                    "1": "Raj",
                                    "2": "M",
                                    "3": "Accountant",
                                    "4": "NULL",
                                    "5": "NULL",
                                    "6": "NULL"
                                },
                                {
                                    "0": "1004",
                                    "1": "Amith",
                                    "2": "M",
                                    "3": "Trainer",
                                    "4": "NULL",
                                    "5": "NULL",
                                    "6": "NULL"
                                }
                            ]
                        },
                        "text/html": [
                            "<table>",
                            "<tr><th>emp_no</th><th>emp_name</th><th>Gender</th><th>desg</th><th>Sal</th><th>Email</th><th>DEPT_ID</th></tr>",
                            "<tr><td>1001</td><td>Sadiq</td><td>M</td><td>Trainer</td><td>NULL</td><td>NULL</td><td>NULL</td></tr>",
                            "<tr><td>1002</td><td>Riya</td><td>F</td><td>Manager</td><td>NULL</td><td>NULL</td><td>NULL</td></tr>",
                            "<tr><td>1003</td><td>Raj</td><td>M</td><td>Accountant</td><td>NULL</td><td>NULL</td><td>NULL</td></tr>",
                            "<tr><td>1004</td><td>Amith</td><td>M</td><td>Trainer</td><td>NULL</td><td>NULL</td><td>NULL</td></tr>",
                            "</table>"
                        ]
                    }
                }
            ],
            "execution_count": 21
        }
    ]
}